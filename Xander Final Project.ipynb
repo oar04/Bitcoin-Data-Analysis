{
 "cells": [
  {
   "cell_type": "code",
   "execution_count": null,
   "id": "976f39d6",
   "metadata": {},
   "outputs": [],
   "source": [
    "import pandas as pd\n",
    "import numpy as np\n",
    "from datetime import datetime\n",
    "import matplotlib.pyplot as plt\n",
    "import seaborn as sns"
   ]
  },
  {
   "cell_type": "code",
   "execution_count": null,
   "id": "8bb2ad54",
   "metadata": {},
   "outputs": [],
   "source": [
    "df_news = pd.read_csv('cryptonews.csv')\n",
    "df_bitcoin = pd.read_csv('historical_bitcoin_data.csv')\n",
    "df_trends = pd.read_csv('bitcoin_monthly_trends.csv')"
   ]
  },
  {
   "cell_type": "markdown",
   "id": "97e8c73e",
   "metadata": {},
   "source": [
    "# EDA on news data"
   ]
  },
  {
   "cell_type": "code",
   "execution_count": null,
   "id": "5b1c6bf7",
   "metadata": {},
   "outputs": [],
   "source": [
    "print(df_news.dtypes)"
   ]
  },
  {
   "cell_type": "code",
   "execution_count": null,
   "id": "bedd2ab4",
   "metadata": {},
   "outputs": [],
   "source": []
  },
  {
   "cell_type": "code",
   "execution_count": null,
   "id": "a14c3186",
   "metadata": {
    "scrolled": true
   },
   "outputs": [],
   "source": [
    "# Check the dimensions of the DataFrame (rows, columns)\n",
    "print(df_news.shape)"
   ]
  },
  {
   "cell_type": "code",
   "execution_count": null,
   "id": "980082e1",
   "metadata": {},
   "outputs": [],
   "source": [
    "# Get an overview of the columns and their data types\n",
    "df_news.info()"
   ]
  },
  {
   "cell_type": "code",
   "execution_count": null,
   "id": "1afd2887",
   "metadata": {},
   "outputs": [],
   "source": [
    "# Check for missing values\n",
    "print(df_news.isnull().sum())"
   ]
  },
  {
   "cell_type": "code",
   "execution_count": null,
   "id": "6a3ce04b",
   "metadata": {},
   "outputs": [],
   "source": [
    "duplicate_rows = df_news[df_news.duplicated()]\n",
    "if duplicate_rows.empty:\n",
    "    print(\"No duplicate values found in df_news\")\n",
    "else:\n",
    "    print(\"Duplicate values found in df_news:\")\n",
    "    print(duplicate_rows)"
   ]
  },
  {
   "cell_type": "code",
   "execution_count": null,
   "id": "026a8d79",
   "metadata": {},
   "outputs": [],
   "source": [
    "df_news.head()"
   ]
  },
  {
   "cell_type": "code",
   "execution_count": null,
   "id": "fffbad07",
   "metadata": {},
   "outputs": [],
   "source": [
    "df_news.tail()"
   ]
  },
  {
   "cell_type": "code",
   "execution_count": null,
   "id": "3df8164f",
   "metadata": {},
   "outputs": [],
   "source": [
    "# Compute basic summary statistics for numeric columns\n",
    "df_news.describe()"
   ]
  },
  {
   "cell_type": "markdown",
   "id": "89af7c68",
   "metadata": {},
   "source": [
    "# EDA on bitcoin price data"
   ]
  },
  {
   "cell_type": "code",
   "execution_count": null,
   "id": "5b5f2709",
   "metadata": {},
   "outputs": [],
   "source": [
    "print(df_bitcoin.dtypes)"
   ]
  },
  {
   "cell_type": "code",
   "execution_count": null,
   "id": "b210c4d1",
   "metadata": {},
   "outputs": [],
   "source": [
    "# Check the dimensions of the DataFrame (rows, columns)\n",
    "df_bitcoin.shape"
   ]
  },
  {
   "cell_type": "code",
   "execution_count": null,
   "id": "a33f4387",
   "metadata": {},
   "outputs": [],
   "source": [
    "# Check for missing values\n",
    "print(df_bitcoin.isnull().sum())"
   ]
  },
  {
   "cell_type": "code",
   "execution_count": null,
   "id": "28660f56",
   "metadata": {},
   "outputs": [],
   "source": [
    "duplicate_rows = df_bitcoin[df_bitcoin.duplicated()]\n",
    "if duplicate_rows.empty:\n",
    "    print(\"No duplicate values found in df_bitcoin\")\n",
    "else:\n",
    "    print(\"Duplicate values found in df_bitcoin:\")\n",
    "    print(duplicate_rows)"
   ]
  },
  {
   "cell_type": "code",
   "execution_count": null,
   "id": "d866d00c",
   "metadata": {},
   "outputs": [],
   "source": [
    "df_bitcoin.head()"
   ]
  },
  {
   "cell_type": "code",
   "execution_count": null,
   "id": "f7fc0b4c",
   "metadata": {},
   "outputs": [],
   "source": [
    "df_bitcoin.tail()"
   ]
  },
  {
   "cell_type": "code",
   "execution_count": null,
   "id": "d93a0b6a",
   "metadata": {},
   "outputs": [],
   "source": [
    "df_bitcoin.describe()"
   ]
  },
  {
   "cell_type": "markdown",
   "id": "a7237414",
   "metadata": {},
   "source": [
    "# EDA on Google trends data"
   ]
  },
  {
   "cell_type": "code",
   "execution_count": null,
   "id": "e56fa0dd",
   "metadata": {},
   "outputs": [],
   "source": [
    "print(df_trends.dtypes)"
   ]
  },
  {
   "cell_type": "code",
   "execution_count": null,
   "id": "fa43a178",
   "metadata": {},
   "outputs": [],
   "source": [
    "# Check the dimensions of the DataFrame (rows, columns)\n",
    "print(df_trends.shape)"
   ]
  },
  {
   "cell_type": "code",
   "execution_count": null,
   "id": "65654489",
   "metadata": {},
   "outputs": [],
   "source": [
    "# Get an overview of the columns and their data types\n",
    "df_trends.info()"
   ]
  },
  {
   "cell_type": "code",
   "execution_count": null,
   "id": "a03e36b7",
   "metadata": {},
   "outputs": [],
   "source": [
    "# Check for missing values\n",
    "print(df_trends.isnull().sum())"
   ]
  },
  {
   "cell_type": "code",
   "execution_count": null,
   "id": "a6132f3b",
   "metadata": {},
   "outputs": [],
   "source": [
    "duplicate_rows = df_trends[df_trends.duplicated()]\n",
    "if duplicate_rows.empty:\n",
    "    print(\"No duplicate values found in df_trends\")\n",
    "else:\n",
    "    print(\"Duplicate values found in df_trends:\")\n",
    "    print(duplicate_rows)"
   ]
  },
  {
   "cell_type": "code",
   "execution_count": null,
   "id": "2edf510e",
   "metadata": {},
   "outputs": [],
   "source": [
    "df_trends.head()"
   ]
  },
  {
   "cell_type": "code",
   "execution_count": null,
   "id": "0ffe9b74",
   "metadata": {
    "scrolled": true
   },
   "outputs": [],
   "source": [
    "df_trends.tail()"
   ]
  },
  {
   "cell_type": "code",
   "execution_count": null,
   "id": "c7213ef2",
   "metadata": {},
   "outputs": [],
   "source": [
    "df_trends.describe()"
   ]
  },
  {
   "cell_type": "code",
   "execution_count": null,
   "id": "52803b65",
   "metadata": {
    "scrolled": true
   },
   "outputs": [],
   "source": [
    "df_trends.plot(x='date', y='Bitcoin', figsize=(10, 6), title='Bitcoin Search Interest Over Time')\n"
   ]
  },
  {
   "cell_type": "markdown",
   "id": "b0af1f16",
   "metadata": {},
   "source": [
    "# Transforming news dataframe"
   ]
  },
  {
   "cell_type": "code",
   "execution_count": null,
   "id": "58ddd820",
   "metadata": {},
   "outputs": [],
   "source": [
    "#df_news.drop('sentiment', axis = 1, inplace=True)\n",
    "df_news.columns"
   ]
  },
  {
   "cell_type": "code",
   "execution_count": null,
   "id": "1ffd6a76",
   "metadata": {},
   "outputs": [],
   "source": [
    "df_bitcoin.columns"
   ]
  },
  {
   "cell_type": "code",
   "execution_count": null,
   "id": "ba7ef0db",
   "metadata": {},
   "outputs": [],
   "source": [
    "df_trends.columns"
   ]
  },
  {
   "cell_type": "code",
   "execution_count": null,
   "id": "1c3fff0a",
   "metadata": {},
   "outputs": [],
   "source": [
    "df_news = df_news.rename(columns={'text': 'Article Summary', 'date': 'Date'})\n",
    "df_trends = df_trends.rename(columns={'Bitcoin': 'Score', 'isPartial': 'Month Incomplete', 'date': 'Date'})\n"
   ]
  },
  {
   "cell_type": "code",
   "execution_count": null,
   "id": "5692f6d1",
   "metadata": {},
   "outputs": [],
   "source": [
    "# Convert date column to datetime format\n",
    "df_bitcoin['Date'] = pd.to_datetime(df_bitcoin['Date'])\n",
    "df_news['Date'] = pd.to_datetime(df_news['Date'])\n",
    "df_trends['Date'] = pd.to_datetime(df_trends['Date'])"
   ]
  },
  {
   "cell_type": "code",
   "execution_count": null,
   "id": "ac6b8f21",
   "metadata": {},
   "outputs": [],
   "source": [
    "df_bitcoin.info()"
   ]
  },
  {
   "cell_type": "code",
   "execution_count": null,
   "id": "856616ba",
   "metadata": {},
   "outputs": [],
   "source": [
    "df_news.info()"
   ]
  },
  {
   "cell_type": "code",
   "execution_count": null,
   "id": "620ff075",
   "metadata": {},
   "outputs": [],
   "source": [
    "df_trends.info()"
   ]
  },
  {
   "cell_type": "code",
   "execution_count": null,
   "id": "c15cbdc5",
   "metadata": {},
   "outputs": [],
   "source": [
    "df_trends.drop('isPartial', axis=1, inplace=True)"
   ]
  },
  {
   "cell_type": "code",
   "execution_count": null,
   "id": "b00a2eb5",
   "metadata": {},
   "outputs": [],
   "source": [
    "#Engineering a new feature, percentage increase between months in df_trends\n",
    "# Sort the DataFrame by the \"Date\" column in ascending order\n",
    "df_trends.sort_values('date', inplace=True)\n",
    "\n",
    "# Calculate the percentage increase of the trend score\n",
    "df_trends['Trend Increase'] = df_trends['Bitcoin'].pct_change() * 100\n",
    "\n",
    "# Drop the first row since it will have a NaN value\n",
    "#df_trends.dropna(subset=['Trend Increase'], inplace=True)\n",
    "\n",
    "# Round the values to two decimal places\n",
    "df_trends['Trend Increase'] = df_trends['Trend Increase'].round(2)\n",
    "df_trends.head()"
   ]
  },
  {
   "cell_type": "code",
   "execution_count": null,
   "id": "5a7657e5",
   "metadata": {},
   "outputs": [],
   "source": []
  }
 ],
 "metadata": {
  "kernelspec": {
   "display_name": "Python 3",
   "language": "python",
   "name": "python3"
  },
  "language_info": {
   "codemirror_mode": {
    "name": "ipython",
    "version": 3
   },
   "file_extension": ".py",
   "mimetype": "text/x-python",
   "name": "python",
   "nbconvert_exporter": "python",
   "pygments_lexer": "ipython3",
   "version": "3.8.8"
  }
 },
 "nbformat": 4,
 "nbformat_minor": 5
}
